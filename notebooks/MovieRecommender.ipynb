{
 "cells": [
  {
   "cell_type": "code",
   "execution_count": 1,
   "id": "0f11398b-da8d-4c53-9163-07993cac95b5",
   "metadata": {},
   "outputs": [],
   "source": [
    "import zipfile\n",
    "import urllib.request\n",
    "import os\n",
    "\n",
    "# Create a data folder\n",
    "os.makedirs(\"../data\", exist_ok=True)\n",
    "\n",
    "# Download the dataset\n",
    "url = \"http://files.grouplens.org/datasets/movielens/ml-100k.zip\"\n",
    "urllib.request.urlretrieve(url, \"../data/ml-100k.zip\")\n",
    "\n",
    "# Extract the dataset\n",
    "with zipfile.ZipFile(\"../data/ml-100k.zip\", 'r') as zip_ref:\n",
    "    zip_ref.extractall(\"../data\")\n"
   ]
  },
  {
   "cell_type": "code",
   "execution_count": null,
   "id": "a0245d27-c40d-462d-ba0d-0d13e722ba4a",
   "metadata": {},
   "outputs": [],
   "source": []
  }
 ],
 "metadata": {
  "kernelspec": {
   "display_name": "Python [conda env:recommender-env]",
   "language": "python",
   "name": "conda-env-recommender-env-py"
  },
  "language_info": {
   "codemirror_mode": {
    "name": "ipython",
    "version": 3
   },
   "file_extension": ".py",
   "mimetype": "text/x-python",
   "name": "python",
   "nbconvert_exporter": "python",
   "pygments_lexer": "ipython3",
   "version": "3.12.11"
  }
 },
 "nbformat": 4,
 "nbformat_minor": 5
}
